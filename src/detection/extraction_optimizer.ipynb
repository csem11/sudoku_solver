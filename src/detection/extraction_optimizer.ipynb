{
 "cells": [
  {
   "cell_type": "code",
   "execution_count": 457,
   "id": "19343a62",
   "metadata": {},
   "outputs": [],
   "source": [
    "import os\n",
    "import cv2 as cv\n",
    "import numpy as np\n",
    "import matplotlib.pyplot as plt"
   ]
  },
  {
   "cell_type": "code",
   "execution_count": 458,
   "id": "a3ff6ef9",
   "metadata": {},
   "outputs": [
    {
     "name": "stdout",
     "output_type": "stream",
     "text": [
      "Found 1134 raw cell image files\n"
     ]
    }
   ],
   "source": [
    "# Load raw cell image file paths only (do not load images)\n",
    "raw_cells_dir = \"../../data/digits/manual/raw/\"\n",
    "raw_cell_image_paths = []\n",
    "\n",
    "# The images are stored directly in the raw directory, not in session subdirectories\n",
    "for fname in os.listdir(raw_cells_dir):\n",
    "    if fname.lower().endswith(('.png', '.jpg', '.jpeg', '.bmp')):\n",
    "        img_path = os.path.join(raw_cells_dir, fname)\n",
    "        raw_cell_image_paths.append(img_path)\n",
    "\n",
    "print(f\"Found {len(raw_cell_image_paths)} raw cell image files\")\n"
   ]
  },
  {
   "cell_type": "code",
   "execution_count": 459,
   "id": "f4bd8f9e",
   "metadata": {},
   "outputs": [
    {
     "name": "stdout",
     "output_type": "stream",
     "text": [
      "Loaded 1134 raw cell images\n"
     ]
    }
   ],
   "source": [
    "# Load the actual raw cell images\n",
    "raw_cell_images = []\n",
    "\n",
    "for img_path in raw_cell_image_paths:\n",
    "    img = cv.imread(img_path, cv.IMREAD_GRAYSCALE)\n",
    "    if img is not None:\n",
    "        raw_cell_images.append(img)\n",
    "    else:\n",
    "        print(f\"Failed to load image: {img_path}\")\n",
    "\n",
    "print(f\"Loaded {len(raw_cell_images)} raw cell images\")\n"
   ]
  },
  {
   "cell_type": "code",
   "execution_count": 460,
   "id": "6433834f",
   "metadata": {},
   "outputs": [],
   "source": [
    "def remove_grid_borders(cell_image, debug=False):\n",
    "    \"\"\"\n",
    "    Remove grid borders from a cell image by iteratively clearing black pixels from the edges,\n",
    "    and return the cleaned image (digit only, background white).\n",
    "    Steps:\n",
    "    1. Darken the image by 30%.\n",
    "    2. Blur the image.\n",
    "    3. Binarize the image (background white, digit black) using Otsu's thresholding.\n",
    "    4. For each edge, clear strips as long as the black percent is above threshold.\n",
    "    5. Set those strips to white in the original image.\n",
    "    6. Binarize the final cleaned image and return it (digit black, background white).\n",
    "    \"\"\"\n",
    "\n",
    "    blur_ksize = 3\n",
    "    max_val = 255\n",
    "    black_percent_threshold = 0.35\n",
    "    edge_strip_width = 3\n",
    "    max_strips = 35\n",
    "\n",
    "    img = cell_image.copy()\n",
    "    # img = (img.astype(np.float32) * 0.7).clip(0, 255).astype(np.uint8)\n",
    "    img_blur = cv.GaussianBlur(img, (17, 17), 0)\n",
    "    _, img_bin = cv.threshold(img_blur, 0, max_val, cv.THRESH_BINARY_INV + cv.THRESH_OTSU)\n",
    "    img_bin = cv.bitwise_not(img_bin)\n",
    "\n",
    "    h, w = img_bin.shape\n",
    "    cleaned = cell_image.copy()\n",
    "\n",
    "    for side in ['top', 'bottom', 'left', 'right']:\n",
    "        for i in range(max_strips):\n",
    "            if side == 'top':\n",
    "                y1, y2 = i * edge_strip_width, min((i + 1) * edge_strip_width, h)\n",
    "                x1, x2 = 0, w\n",
    "            elif side == 'bottom':\n",
    "                y1, y2 = h - (i + 1) * edge_strip_width, h - i * edge_strip_width\n",
    "                y1 = max(y1, 0)\n",
    "                x1, x2 = 0, w\n",
    "            elif side == 'left':\n",
    "                x1, x2 = i * edge_strip_width, min((i + 1) * edge_strip_width, w)\n",
    "                y1, y2 = 0, h\n",
    "            elif side == 'right':\n",
    "                x1, x2 = w - (i + 1) * edge_strip_width, w - i * edge_strip_width\n",
    "                x1 = max(x1, 0)\n",
    "                y1, y2 = 0, h\n",
    "\n",
    "            roi = img_bin[y1:y2, x1:x2]\n",
    "            total = roi.size\n",
    "            black = np.count_nonzero(roi == 0)\n",
    "            black_percent = black / total if total > 0 else 0\n",
    "\n",
    "            if black_percent > black_percent_threshold:\n",
    "                cleaned[y1:y2, x1:x2] = 255\n",
    "            else:\n",
    "                break\n",
    "\n",
    "\n",
    "\n",
    "    if debug:\n",
    "        import matplotlib.pyplot as plt\n",
    "        fig, axs = plt.subplots(1, 5, figsize=(20, 4))\n",
    "        axs[0].imshow(cell_image, cmap='gray')\n",
    "        axs[0].set_title('Original')\n",
    "        axs[1].imshow(img_blur, cmap='gray')\n",
    "        axs[1].set_title('Blurred')\n",
    "        axs[2].imshow(img_bin, cmap='gray')\n",
    "        axs[2].set_title('Binarized')\n",
    "        axs[3].imshow(cleaned, cmap='gray')\n",
    "        axs[3].set_title('Cleaned (White Strips)')\n",
    "        for ax in axs:\n",
    "            ax.axis('off')\n",
    "        plt.show()\n",
    "\n",
    "    return cleaned\n",
    "\n",
    "\n",
    "\n"
   ]
  },
  {
   "cell_type": "code",
   "execution_count": 461,
   "id": "0f9987ad",
   "metadata": {},
   "outputs": [],
   "source": [
    "def find_digit_in_cell(cell_image):\n",
    "    \"\"\"\n",
    "    Finds the bounding rectangle of the largest contour (digit) in the cell image,\n",
    "    crops to that region, and resizes back to the original cell_image size.\n",
    "    \"\"\"\n",
    "    # Clean the image: binarize and dilate to connect digit parts\n",
    "    _, cleaned = cv.threshold(cell_image, 0, 255, cv.THRESH_BINARY_INV + cv.THRESH_OTSU)\n",
    "    kernel = np.ones((5,5), np.uint8)\n",
    "    dilation = cv.dilate(cleaned, kernel, iterations=1)\n",
    "    # Find contours\n",
    "    contours, _ = cv.findContours(dilation, cv.RETR_EXTERNAL, cv.CHAIN_APPROX_SIMPLE)\n",
    "    if contours:\n",
    "        largest = max(contours, key=cv.contourArea)\n",
    "        x, y, w, h = cv.boundingRect(largest)\n",
    "        # Crop to bounding box\n",
    "        cropped = cell_image[y:y+h, x:x+w]\n",
    "        # Resize back to original size\n",
    "        resized = cv.resize(cropped, (cell_image.shape[1], cell_image.shape[0]), interpolation=cv.INTER_LINEAR)\n",
    "        return resized\n",
    "    else:\n",
    "        # If no contour found, return the original image\n",
    "        return cell_image\n"
   ]
  },
  {
   "cell_type": "code",
   "execution_count": 462,
   "id": "204c8fc3",
   "metadata": {},
   "outputs": [],
   "source": [
    "def process_cell(cell_image, debug=False):\n",
    "    \"\"\"\n",
    "    Process cell image to remove grid borders, clean up the image, and sharpen the digit\n",
    "    \"\"\"\n",
    "    no_border = remove_grid_borders(cell_image, debug=False)\n",
    "    filtered_digit = find_digit_in_cell(no_border)\n",
    "\n",
    "    binary = cv.GaussianBlur(filtered_digit, (3, 3), 0)\n",
    "    thresh = cv.adaptiveThreshold(binary, 255, cv.ADAPTIVE_THRESH_GAUSSIAN_C, \n",
    "                              cv.THRESH_BINARY, 11, 2)\n",
    "\n",
    "    # Add a decent blur to the thresholded image to help smooth digit edges\n",
    "    thresh = cv.GaussianBlur(thresh, (7, 7), 0)\n",
    "    kernel = np.ones((3,3), np.uint8)\n",
    "    binary = cv.dilate(thresh, kernel, iterations=1)\n",
    "    thresh = cv.GaussianBlur(binary, (7, 7), 0)\n",
    "    # # Simply sharpen digit\n",
    "    # Invert colors\n",
    "    binary = cv.bitwise_not(binary)\n",
    "    # Erode the image\n",
    "    kernel = np.ones((7,7), np.uint8)\n",
    "    binary = cv.dilate(binary, kernel, iterations=1)\n",
    "    kernel = np.ones((3,3), np.uint8)\n",
    "    binary = cv.erode(binary, kernel, iterations=1)\n",
    "    binary = cv.adaptiveThreshold(binary, 255, cv.ADAPTIVE_THRESH_GAUSSIAN_C, \n",
    "                              cv.THRESH_BINARY, 11, 2)\n",
    "\n",
    "    filtered_digit = binary\n",
    "\n",
    "    return filtered_digit\n",
    "\n"
   ]
  },
  {
   "cell_type": "code",
   "execution_count": 463,
   "id": "8498fcc0",
   "metadata": {},
   "outputs": [],
   "source": [
    "# Simple function to test process_cell on a specific image\n",
    "def test_process_cell(idx, debug=True):\n",
    "    \"\"\"Test process_cell function on a specific image, showing intermediate output.\"\"\"\n",
    "    if idx < len(raw_cell_images):\n",
    "        raw_img = raw_cell_images[idx]\n",
    "        print(f\"Testing image {idx}\")\n",
    "        print(f\"Raw image shape: {raw_img.shape}\")\n",
    "        print(f\"Raw image range: {raw_img.min()} to {raw_img.max()}\")\n",
    "\n",
    "        # Show output of find_digit_in_cell\n",
    "        digit_img = find_digit_in_cell(raw_img)\n",
    "        \n",
    "        # Process the image\n",
    "        processed_img = process_cell(raw_img, debug=debug)\n",
    "        \n",
    "        # Display: raw image, digit image, processed image\n",
    "        fig, axes = plt.subplots(1, 3, figsize=(18, 5))\n",
    "        \n",
    "        # Raw image\n",
    "        axes[0].imshow(raw_img, cmap='gray')\n",
    "        axes[0].set_title(f'Raw Image {idx}\\nSize: {raw_img.shape}')\n",
    "        axes[0].axis('off')\n",
    "        \n",
    "        # Output of find_digit_in_cell\n",
    "        axes[1].imshow(digit_img, cmap='gray')\n",
    "        axes[1].set_title('find_digit_in_cell Output')\n",
    "        axes[1].axis('off')\n",
    "        \n",
    "        # Processed image\n",
    "        axes[2].imshow(processed_img, cmap='gray')\n",
    "        axes[2].set_title(f'Processed Image {idx}\\nSize: {processed_img.shape}')\n",
    "        axes[2].axis('off')\n",
    "        \n",
    "        plt.tight_layout()\n",
    "        plt.show()\n",
    "        \n",
    "        print(f\"Processed image range: {processed_img.min()} to {processed_img.max()}\")\n",
    "        \n",
    "        return processed_img\n",
    "    else:\n",
    "        print(f\"Index {idx} out of range. Available images: 0-{len(raw_cell_images)-1}\")\n",
    "        return None\n"
   ]
  },
  {
   "cell_type": "code",
   "execution_count": 464,
   "id": "b6e3840a",
   "metadata": {},
   "outputs": [
    {
     "name": "stdout",
     "output_type": "stream",
     "text": [
      "Loaded 1134 raw cell images\n",
      "Use test_process_cell(idx) to test on a specific image\n",
      "Example: test_process_cell(0, debug=True)\n"
     ]
    }
   ],
   "source": [
    "# Test the process_cell function\n",
    "print(f\"Loaded {len(raw_cell_images)} raw cell images\")\n",
    "print(\"Use test_process_cell(idx) to test on a specific image\")\n",
    "print(\"Example: test_process_cell(0, debug=True)\")\n"
   ]
  },
  {
   "cell_type": "code",
   "execution_count": 465,
   "id": "5bb892be",
   "metadata": {},
   "outputs": [
    {
     "name": "stdout",
     "output_type": "stream",
     "text": [
      "Testing image 130\n",
      "Raw image shape: (50, 50)\n",
      "Raw image range: 71 to 153\n"
     ]
    },
    {
     "data": {
      "image/png": "[encoded data removed]",
      "text/plain": [
       "<Figure size 1800x500 with 3 Axes>"
      ]
     },
     "metadata": {},
     "output_type": "display_data"
    },
    {
     "name": "stdout",
     "output_type": "stream",
     "text": [
      "Processed image range: 0 to 255\n"
     ]
    },
    {
     "data": {
      "text/plain": [
       "array([[255, 255, 255, ...,   0, 255, 255],\n",
       "       [255, 255, 255, ...,   0, 255, 255],\n",
       "       [255, 255, 255, ...,   0, 255, 255],\n",
       "       ...,\n",
       "       [255, 255, 255, ..., 255, 255, 255],\n",
       "       [  0,   0,   0, ..., 255, 255, 255],\n",
       "       [  0,   0,   0, ..., 255, 255, 255]], shape=(50, 50), dtype=uint8)"
      ]
     },
     "execution_count": 465,
     "metadata": {},
     "output_type": "execute_result"
    }
   ],
   "source": [
    "test_process_cell(130, debug=True)\n"
   ]
  },
  {
   "cell_type": "code",
   "execution_count": 466,
   "id": "2db9f04a",
   "metadata": {},
   "outputs": [
    {
     "name": "stdout",
     "output_type": "stream",
     "text": [
      "Testing image 110\n",
      "Raw image shape: (50, 50)\n",
      "Raw image range: 69 to 227\n"
     ]
    },
    {
     "data": {
      "image/png": "[encoded data removed]",
      "text/plain": [
       "<Figure size 1800x500 with 3 Axes>"
      ]
     },
     "metadata": {},
     "output_type": "display_data"
    },
    {
     "name": "stdout",
     "output_type": "stream",
     "text": [
      "Processed image range: 0 to 255\n"
     ]
    },
    {
     "data": {
      "text/plain": [
       "array([[  0,   0,   0, ...,   0,   0,   0],\n",
       "       [  0,   0,   0, ...,   0,   0,   0],\n",
       "       [255, 255, 255, ..., 255,   0,   0],\n",
       "       ...,\n",
       "       [255, 255, 255, ..., 255,   0,   0],\n",
       "       [255, 255, 255, ..., 255,   0,   0],\n",
       "       [255, 255, 255, ..., 255,   0,   0]], shape=(50, 50), dtype=uint8)"
      ]
     },
     "execution_count": 466,
     "metadata": {},
     "output_type": "execute_result"
    }
   ],
   "source": [
    "test_process_cell(110, debug=True)"
   ]
  },
  {
   "cell_type": "code",
   "execution_count": null,
   "id": "d8ba5f55",
   "metadata": {},
   "outputs": [],
   "source": []
  }
 ],
 "metadata": {
  "language_info": {
   "name": "python"
  }
 },
 "nbformat": 4,
 "nbformat_minor": 5
}
